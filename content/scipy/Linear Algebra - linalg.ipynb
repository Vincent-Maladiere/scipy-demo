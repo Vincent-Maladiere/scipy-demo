{
 "cells": [
  {
   "cell_type": "markdown",
   "id": "2d0d6478",
   "metadata": {},
   "source": [
    "# Linear Algebra with Scipy\n",
    "\n",
    "\n",
    "*Reading time ~30 min*\n",
    "\n",
    "- *Author*: Vincent Maladiere\n",
    "- *Credits*: [Scipy linalg Tutorial](https://docs.scipy.org/doc/scipy/tutorial/linalg.html)\n",
    "\n",
    "\n",
    "`scipy.linalg` provide efficient linear algebra operation through BLAS and LAPACK backend. Input and ouput always expect 2-D arrays."
   ]
  },
  {
   "cell_type": "code",
   "execution_count": 1,
   "id": "bb8921c8",
   "metadata": {},
   "outputs": [],
   "source": [
    "from scipy import linalg\n",
    "import numpy as np\n",
    "from matplotlib import pyplot as plt\n",
    "%matplotlib inline"
   ]
  },
  {
   "cell_type": "markdown",
   "id": "e6f39989",
   "metadata": {},
   "source": [
    "## Standard operations"
   ]
  },
  {
   "cell_type": "markdown",
   "id": "7ee50ede",
   "metadata": {},
   "source": [
    "### Finding the determinant"
   ]
  },
  {
   "cell_type": "markdown",
   "id": "53f8d0be",
   "metadata": {},
   "source": [
    "The determinant of a square matrix $A$ is often denoted $|A|$ and is a quantity often used in linear algebra.\n",
    "\n",
    "2 computation techniques:\n",
    "\n",
    "**1. Leibniz formula**\n",
    "\n",
    "$$A=\\begin{bmatrix} a_{1,1} & a_{1,2} & a_{1,3} \\\\ a_{2,1} & a_{2,2} & a_{2,3} \\\\ a_{3,1} & a_{3,2} & a_{3, 3}\\end{bmatrix}$$\n",
    "\n",
    "<br>\n",
    "\n",
    "| Permutation $\\sigma$ | ${sgn}(\\sigma )$ | $sgn(\\sigma) \\prod _{i=1}^{n}a_{i,\\sigma _{i}}$ |\n",
    "|--------------------------------------|-----------------------------------------------|--------------------------------------------------------------------------------|\n",
    "| 1, 2, 3                              | $+1$                           | $+a_{1,1}a_{2,2}a_{3,3}$                                        |\n",
    "| 1, 3, 2                              | $-1$                           | $-a_{1,1}a_{2,3}a_{3,2}$                                        |\n",
    "| 3, 1, 2                              | $+1$                           | $+a_{1,3}a_{2,1}a_{3,2}$                                        |\n",
    "| 3, 2, 1                              | $-1$                           | $-a_{1,3}a_{2,2}a_{3,1}$                                        |\n",
    "| 2, 3, 1                              | $+1$                           | $+a_{1,2}a_{2,3}a_{3,1}$                                        |\n",
    "| 2, 1, 3                              | $-1$                           | ${-a_{1,2}a_{2,1}a_{3,3}}$                                        |\n",
    "\n",
    "\n",
    "The sign of $\\sigma$  is defined to be $+1$ whenever the reordering given by $\\sigma$ can be achieved by successively interchanging two entries an even number of times, and $-1$ whenever it can be achieved by an odd number of such interchanges.\n",
    "\n",
    "\n",
    "$$det(A) = \\sum_{\\sigma \\in S_n} \\Big( sgn(\\sigma) \\prod^n_{i=1} a_{i,\\sigma_i} \\Big) = a_{1,1}a_{2,2}a_{3,3} - a_{1,1}a_{2,3}a_{3,2} + a_{1,3}a_{2,1}a_{3,2} - a_{1,3}a_{2,2}a_{3,1} + a_{1,2}a_{2,3}a_{3,1} - a_{1,2}a_{2,1}a_{3,3}$$\n",
    "\n",
    "**2. Laplace expansion**\n",
    "\n",
    "![laplace-expansion](../asset/laplaceexpansion.png)\n",
    "\n",
    "Suppose  $a_{ij}$ are the elements of the matrix $A$ and let $M_{ij}=|A_{ij}|$ be the determinant of the matrix left by removing the $i$ row and $j$ column from $A$. Then, for any column $j$:\n",
    "\n",
    "$$det(A)=\\sum_{i=1}^N (-1)^{i+j} a_{ij} M_{ij}$$\n",
    "\n",
    "This is a recursive way to define the determinant, where the base case is defined by accepting that the determinant of a $1 \\times 1$ matrix is the only matrix element.\n",
    "\n",
    "In Scipy:"
   ]
  },
  {
   "cell_type": "code",
   "execution_count": 32,
   "id": "226155b5",
   "metadata": {},
   "outputs": [
    {
     "name": "stdout",
     "output_type": "stream",
     "text": [
      "[[1 3 5]\n",
      " [2 5 1]\n",
      " [2 3 8]] \n",
      "\n",
      "det: -25.000000000000004\n"
     ]
    }
   ],
   "source": [
    "A = np.array([[1, 3, 5], [2, 5, 1], [2, 3, 8]])\n",
    "print(A, \"\\n\")\n",
    "print(\"det:\", linalg.det(A))"
   ]
  },
  {
   "cell_type": "code",
   "execution_count": 31,
   "id": "2d0306bc",
   "metadata": {},
   "outputs": [
    {
     "name": "stdout",
     "output_type": "stream",
     "text": [
      "[[ 1  3  5]\n",
      " [ 2  6 10]\n",
      " [ 2  3  8]] \n",
      "\n",
      "det: 1.77635683940025e-15\n"
     ]
    }
   ],
   "source": [
    "A_singular = np.array([[1, 3, 5], [2, 6, 10], [2, 3, 8]])\n",
    "print(A_singular, \"\\n\")\n",
    "print(\"det:\", linalg.det(A_singular))"
   ]
  },
  {
   "cell_type": "markdown",
   "id": "7cc0675e",
   "metadata": {},
   "source": [
    "### Finding the inverse"
   ]
  },
  {
   "cell_type": "markdown",
   "id": "d07a2eee",
   "metadata": {},
   "source": [
    "The inverse of a matrix $A$ is the matrix $B$, such that $AB = I$, where $I$ is the identity matrix consisting of ones down the main diagonal. Usually, $B$ is denoted  $B=A^{-1}$.\n",
    "\n",
    "In SciPy, the matrix inverse of the NumPy array, A, is obtained using `linalg.inv(A)`, or using `A.I` if `A` is a Matrix. \n",
    "\n",
    "Under the hood, it performs [Gaussian elimination](https://en.wikipedia.org/wiki/Invertible_matrix#Gaussian_elimination), via [Lower-Upper decomposition](https://en.wikipedia.org/wiki/LU_decomposition).\n",
    "\n",
    "For example:\n",
    "\n",
    "$$A=\\begin{bmatrix} 1 & 3 & 5 \\\\ 2 & 5 & 1 \\\\ 2 & 3 & 8 \\end{bmatrix}$$"
   ]
  },
  {
   "cell_type": "code",
   "execution_count": 94,
   "id": "3a8de5c7",
   "metadata": {},
   "outputs": [
    {
     "name": "stdout",
     "output_type": "stream",
     "text": [
      "[[1 3 5]\n",
      " [2 5 1]\n",
      " [2 3 8]] \n",
      "\n",
      "[[-1.48  0.36  0.88]\n",
      " [ 0.56  0.08 -0.36]\n",
      " [ 0.16 -0.12  0.04]] \n",
      "\n",
      "[[ 1.00000000e+00 -1.11022302e-16  4.85722573e-17]\n",
      " [ 3.05311332e-16  1.00000000e+00  7.63278329e-17]\n",
      " [ 2.22044605e-16 -1.11022302e-16  1.00000000e+00]]\n"
     ]
    }
   ],
   "source": [
    "A = np.array([[1, 3, 5], [2, 5, 1], [2, 3, 8]])\n",
    "A_inv = linalg.inv(A)\n",
    "print(A, \"\\n\")\n",
    "print(A_inv, \"\\n\")\n",
    "print(A.dot(A_inv))"
   ]
  },
  {
   "cell_type": "markdown",
   "id": "85bf85ea",
   "metadata": {},
   "source": [
    "Dot product alternatives:"
   ]
  },
  {
   "cell_type": "code",
   "execution_count": 34,
   "id": "16ccdd0a",
   "metadata": {},
   "outputs": [
    {
     "name": "stdout",
     "output_type": "stream",
     "text": [
      "[[ 1.00000000e+00 -1.11022302e-16  4.85722573e-17]\n",
      " [ 3.05311332e-16  1.00000000e+00  7.63278329e-17]\n",
      " [ 2.22044605e-16 -1.11022302e-16  1.00000000e+00]] \n",
      "\n",
      "[[ 1.00000000e+00 -1.11022302e-16  4.85722573e-17]\n",
      " [ 3.05311332e-16  1.00000000e+00  7.63278329e-17]\n",
      " [ 2.22044605e-16 -1.11022302e-16  1.00000000e+00]]\n"
     ]
    }
   ],
   "source": [
    "print(np.dot(A, A_inv), \"\\n\")\n",
    "print(A @ A_inv)"
   ]
  },
  {
   "cell_type": "markdown",
   "id": "26b33b9b",
   "metadata": {},
   "source": [
    "**TODO #1**: Try to perform inversion on `A_singular`. What result do you expect?"
   ]
  },
  {
   "cell_type": "code",
   "execution_count": null,
   "id": "85633e11",
   "metadata": {},
   "outputs": [],
   "source": [
    "### TODO - write your code below ###\n"
   ]
  },
  {
   "cell_type": "markdown",
   "id": "f8c3b202",
   "metadata": {},
   "source": [
    "### Solving a linear system"
   ]
  },
  {
   "cell_type": "markdown",
   "id": "25b973aa",
   "metadata": {},
   "source": [
    "Suppose we have the following equations to solve:\n",
    "    \n",
    "$$x + 3y + 5z = 10 \\\\ 2x + 5y + z = 8 \\\\ 2x + 3y + 8z = 3$$\n",
    "\n",
    "We could turn this problem into matrix computation:\n",
    "\n",
    "$$\\begin{bmatrix} 1 & 3 & 5 \\\\ 2 & 5 & 1 \\\\ 2 & 3 & 8 \\end{bmatrix} \\begin{bmatrix}x\\\\y\\\\z\\end{bmatrix}=\\begin{bmatrix}10\\\\8\\\\3\\end{bmatrix}$$\n",
    "\n",
    "Thus our problem is now:\n",
    "\n",
    "$$\\begin{bmatrix}x\\\\y\\\\z\\end{bmatrix} = \\begin{bmatrix} 1 & 3 & 5 \\\\ 2 & 5 & 1 \\\\ 2 & 3 & 8 \\end{bmatrix}^{-1} \\begin{bmatrix}10\\\\8\\\\3\\end{bmatrix} $$"
   ]
  },
  {
   "cell_type": "markdown",
   "id": "64bd6d0f",
   "metadata": {},
   "source": [
    "**TODO #2**: Solve the problem using only `linalg.inv`"
   ]
  },
  {
   "cell_type": "code",
   "execution_count": 92,
   "id": "1b6054e2",
   "metadata": {},
   "outputs": [],
   "source": [
    "A = np.array([[1, 3, 5], [2, 5, 1], [2, 3, 8]])\n",
    "b = np.array([[10], [8], [3]])\n",
    "\n",
    "### TODO - write your code below ###\n"
   ]
  },
  {
   "cell_type": "markdown",
   "id": "837aba17",
   "metadata": {},
   "source": [
    "However, it is better to use the `linalg.solve` command, which can be faster and more numerically stable. In this case, it, however, gives the same answer as shown in the following example:"
   ]
  },
  {
   "cell_type": "code",
   "execution_count": 37,
   "id": "e08fbb31",
   "metadata": {},
   "outputs": [
    {
     "data": {
      "text/plain": [
       "array([[-9.28],\n",
       "       [ 5.16],\n",
       "       [ 0.76]])"
      ]
     },
     "execution_count": 37,
     "metadata": {},
     "output_type": "execute_result"
    }
   ],
   "source": [
    "x = linalg.solve(A, b)\n",
    "x"
   ]
  },
  {
   "cell_type": "markdown",
   "id": "86a8b438",
   "metadata": {},
   "source": [
    "Check:"
   ]
  },
  {
   "cell_type": "code",
   "execution_count": 38,
   "id": "aef18840",
   "metadata": {},
   "outputs": [
    {
     "data": {
      "text/plain": [
       "array([[ 0.00000000e+00],\n",
       "       [-1.77635684e-15],\n",
       "       [-1.77635684e-15]])"
      ]
     },
     "execution_count": 38,
     "metadata": {},
     "output_type": "execute_result"
    }
   ],
   "source": [
    "A @ x - b"
   ]
  },
  {
   "cell_type": "markdown",
   "id": "90a9ec4a",
   "metadata": {},
   "source": [
    "### Norms"
   ]
  },
  {
   "cell_type": "markdown",
   "id": "b01fce30",
   "metadata": {},
   "source": [
    "A wide range of norm definitions are available using different parameters to the order argument of `linalg.norm`. This function takes a rank-1 (vectors) or a rank-2 (matrices) array and an optional order argument (default is 2). Based on these inputs, a vector or matrix norm of the requested order is computed.\n",
    "\n",
    "For a vector\n",
    "\n",
    "$$||x||=\\begin{cases} max|x_i| & ord=inf\\\\ min|x_i| & ord=-inf \\\\ \\big(\\sum_i |x_i|^{ord} \\big)^{1/ord} & ord < inf \\end{cases}$$\n",
    "\n",
    "For a matrix\n",
    "\n",
    "$$||A||=\\begin{cases} max_i \\sum_j |a_{ij}| & ord = inf \\\\ min_i \\sum_j |a_{ij}| & ord = -inf \\\\ max_j \\sum_i |a_{ij}| & ord = 1\\\\ min_j \\sum_i |a_{ij}| & ord = -1 \\\\ max\\, \\sigma_i & ord = 2 \\\\ max \\,\\sigma_j & ord = -2 \\\\ \\sqrt{\\mathrm{trace}(A^TA}) & ord = \\mathrm{\"fro\"}\\end{cases}$$"
   ]
  },
  {
   "cell_type": "code",
   "execution_count": 99,
   "id": "604782e2",
   "metadata": {},
   "outputs": [
    {
     "data": {
      "text/plain": [
       "array([[1, 3, 5],\n",
       "       [2, 5, 1],\n",
       "       [2, 3, 8]])"
      ]
     },
     "execution_count": 99,
     "metadata": {},
     "output_type": "execute_result"
    }
   ],
   "source": [
    "A"
   ]
  },
  {
   "cell_type": "code",
   "execution_count": 100,
   "id": "908f86f6",
   "metadata": {},
   "outputs": [
    {
     "data": {
      "text/plain": [
       "array([1, 3, 5])"
      ]
     },
     "execution_count": 100,
     "metadata": {},
     "output_type": "execute_result"
    }
   ],
   "source": [
    "A[0]"
   ]
  },
  {
   "cell_type": "code",
   "execution_count": 103,
   "id": "6d6e9bb4",
   "metadata": {},
   "outputs": [
    {
     "name": "stdout",
     "output_type": "stream",
     "text": [
      "5.0\n",
      "1.0\n",
      "5.916079783099616\n"
     ]
    }
   ],
   "source": [
    "print(linalg.norm(A[0], np.inf))\n",
    "print(linalg.norm(A[0], -np.inf))\n",
    "print(linalg.norm(A[0], 2))"
   ]
  },
  {
   "cell_type": "code",
   "execution_count": 106,
   "id": "131a287f",
   "metadata": {},
   "outputs": [
    {
     "name": "stdout",
     "output_type": "stream",
     "text": [
      "11.916375287812984\n",
      "13.0\n",
      "14.0\n",
      "11.133851342531154\n"
     ]
    }
   ],
   "source": [
    "print(linalg.norm(A))  # frobenius \"fro\" is the default\n",
    "print(linalg.norm(A, np.inf))\n",
    "print(linalg.norm(A, 1))\n",
    "print(linalg.norm(A, 2))"
   ]
  },
  {
   "cell_type": "markdown",
   "id": "97ae510d",
   "metadata": {},
   "source": [
    "### Eigenvalues and engenvectors\n",
    "\n",
    "The eigenvalue-eigenvector problem is one of the most commonly employed linear algebra operations. In one popular form, the eigenvalue-eigenvector problem is to find for some square matrix $A$, scalars $\\lambda$ and corresponding vectors $v$, such that:\n",
    "\n",
    "$$A v = \\lambda v$$\n",
    "\n",
    "For an $N \\times N$ matrix, there are  (not necessarily distinct) eigenvalues — roots of the (characteristic) polynomial\n",
    "\n",
    "$$| A - \\lambda I | = 0$$\n",
    "\n",
    "Let's consider again the matrix:\n",
    "\n",
    "$$A=\\begin{bmatrix} 1 & 5 & 2 \\\\ 2 & 4 & 1 \\\\ 3 & 6 & 2 \\end{bmatrix}$$\n",
    "\n",
    "The characteristic polynomial is:\n",
    "\n",
    "$$|A - \\lambda I| = \\begin{bmatrix} 1-\\lambda & 5 & 2 \\\\ 2 & 4-\\lambda & 1 \\\\ 3 & 6 & 2-\\lambda \\end{bmatrix} = (1-\\lambda) [(4-\\lambda)(2-\\lambda)-6]-5[2(2-\\lambda)-3]+2[12-3(4-\\lambda)]\\\\=-\\lambda^3+7\\lambda^2+8\\lambda-3$$ \n",
    "\n",
    "The roots of this polynomial are:\n",
    "\n",
    "$$\\lambda_1 = 7.9579\\\\\\lambda_2 = -1.2577\\\\\\lambda_3=0.2997$$"
   ]
  },
  {
   "cell_type": "code",
   "execution_count": 65,
   "id": "a43470e2",
   "metadata": {},
   "outputs": [
    {
     "name": "stdout",
     "output_type": "stream",
     "text": [
      "lambdas:\n",
      " [ 7.9579162 +0.j -1.25766471+0.j  0.2997485 +0.j] \n",
      "\n",
      "right v:\n",
      " [[-0.5297175  -0.90730751  0.28380519]\n",
      " [-0.44941741  0.28662547 -0.39012063]\n",
      " [-0.71932146  0.30763439  0.87593408]]\n"
     ]
    }
   ],
   "source": [
    "A = np.array([[1, 5, 2], [2, 4, 1], [3, 6, 2]])\n",
    "la, v = linalg.eig(A)\n",
    "print(\"lambdas:\\n\", la, \"\\n\")\n",
    "print(\"right v:\\n\", v)"
   ]
  },
  {
   "cell_type": "markdown",
   "id": "108fa37e",
   "metadata": {},
   "source": [
    "Sanity check the initial equation $A v_i = \\lambda_i v_i $"
   ]
  },
  {
   "cell_type": "code",
   "execution_count": 88,
   "id": "afb8d871",
   "metadata": {},
   "outputs": [
    {
     "name": "stdout",
     "output_type": "stream",
     "text": [
      "3.233018248352212e-15\n",
      "1.1389935954777104e-15\n",
      "4.871083751574258e-16\n"
     ]
    }
   ],
   "source": [
    "for idx in range(3):\n",
    "    print(linalg.norm(A @ v[:, idx] - la[idx] * v[:, idx]))"
   ]
  },
  {
   "cell_type": "code",
   "execution_count": 66,
   "id": "af48a266",
   "metadata": {},
   "outputs": [
    {
     "data": {
      "text/plain": [
       "array([[-4.21544748,  1.14108863,  0.08507018],\n",
       "       [-3.57642611, -0.36047874, -0.11693807],\n",
       "       [-5.72429989, -0.38690092,  0.26255993]])"
      ]
     },
     "execution_count": 66,
     "metadata": {},
     "output_type": "execute_result"
    }
   ],
   "source": [
    "A @ v"
   ]
  },
  {
   "cell_type": "code",
   "execution_count": 67,
   "id": "78f0cf5d",
   "metadata": {},
   "outputs": [
    {
     "data": {
      "text/plain": [
       "array([[-4.21544748+0.j,  1.14108863-0.j,  0.08507018+0.j],\n",
       "       [-3.57642611+0.j, -0.36047874+0.j, -0.11693807+0.j],\n",
       "       [-5.72429989+0.j, -0.38690092+0.j,  0.26255993+0.j]])"
      ]
     },
     "execution_count": 67,
     "metadata": {},
     "output_type": "execute_result"
    }
   ],
   "source": [
    "la * v"
   ]
  },
  {
   "cell_type": "code",
   "execution_count": 71,
   "id": "895b737e",
   "metadata": {},
   "outputs": [
    {
     "data": {
      "text/plain": [
       "array([[-2.66453526e-15+0.j,  0.00000000e+00+0.j,  5.55111512e-17+0.j],\n",
       "       [-4.44089210e-16+0.j,  8.32667268e-16+0.j,  1.11022302e-16+0.j],\n",
       "       [-1.77635684e-15+0.j,  7.77156117e-16+0.j,  2.22044605e-16+0.j]])"
      ]
     },
     "execution_count": 71,
     "metadata": {},
     "output_type": "execute_result"
    }
   ],
   "source": [
    "A @ v - la * v"
   ]
  },
  {
   "cell_type": "markdown",
   "id": "b2e91b19",
   "metadata": {},
   "source": [
    "**TODO #3**: What operation does `la * v` realize?"
   ]
  },
  {
   "cell_type": "markdown",
   "id": "3a7c3113",
   "metadata": {},
   "source": [
    "Eigenvectors are unitary (defining a orthonormal basis)"
   ]
  },
  {
   "cell_type": "code",
   "execution_count": 79,
   "id": "fb562bbe",
   "metadata": {},
   "outputs": [
    {
     "data": {
      "text/plain": [
       "array([[0.28060063, 0.82320692, 0.08054539],\n",
       "       [0.20197601, 0.08215416, 0.15219411],\n",
       "       [0.51742336, 0.09463892, 0.76726051]])"
      ]
     },
     "execution_count": 79,
     "metadata": {},
     "output_type": "execute_result"
    }
   ],
   "source": [
    "(v**2)"
   ]
  },
  {
   "cell_type": "code",
   "execution_count": 80,
   "id": "af6fa12a",
   "metadata": {},
   "outputs": [
    {
     "data": {
      "text/plain": [
       "array([1., 1., 1.])"
      ]
     },
     "execution_count": 80,
     "metadata": {},
     "output_type": "execute_result"
    }
   ],
   "source": [
    "(v**2).sum(axis=0)"
   ]
  },
  {
   "cell_type": "markdown",
   "id": "ba4b3dd0",
   "metadata": {},
   "source": [
    "### Singular value decomposition (SVD)\n",
    "\n",
    "Singular value decomposition (SVD) can be thought of as an extension of the eigenvalue problem to matrices that are not square. \n",
    "\n",
    "Let $A$ be a $N \\times M$ matrix. $A^T A$ and $A A ^T$ are squared hermitian matrix of dimension $M \\times M$ and $N \\times N$. They are real, positive-definite matrix and hence invertible. \n",
    "\n",
    "Let's call their eigenvalues $\\sigma_i^2$. The singular values of $A$ are then $\\sigma_i$.\n",
    "\n",
    "$A$ also admit the SVD decomposition:\n",
    "\n",
    "$$A = U \\Sigma V^T $$\n",
    "\n",
    "With \n",
    "- $\\Sigma = diag(\\sigma_1, \\sigma_2, ..., \\sigma_k)$\n",
    "- $k = min(M, N)$."
   ]
  },
  {
   "cell_type": "code",
   "execution_count": 124,
   "id": "b1e07935",
   "metadata": {},
   "outputs": [
    {
     "name": "stdout",
     "output_type": "stream",
     "text": [
      "[[-0.3863177  -0.92236578]\n",
      " [-0.92236578  0.3863177 ]] \n",
      "\n",
      "[9.508032   0.77286964] \n",
      "\n",
      "[[-0.42866713 -0.56630692 -0.7039467 ]\n",
      " [ 0.80596391  0.11238241 -0.58119908]\n",
      " [ 0.40824829 -0.81649658  0.40824829]] \n",
      "\n"
     ]
    }
   ],
   "source": [
    "A = np.array([[1, 2, 3], [4, 5, 6]])\n",
    "n, m = A.shape\n",
    "u, s, v = linalg.svd(A)\n",
    "print(u, \"\\n\")\n",
    "print(s, \"\\n\")\n",
    "print(v, \"\\n\")"
   ]
  },
  {
   "cell_type": "code",
   "execution_count": 126,
   "id": "f0c139d4",
   "metadata": {},
   "outputs": [
    {
     "data": {
      "text/plain": [
       "array([[9.508032  , 0.        , 0.        ],\n",
       "       [0.        , 0.77286964, 0.        ]])"
      ]
     },
     "execution_count": 126,
     "metadata": {},
     "output_type": "execute_result"
    }
   ],
   "source": [
    "S = linalg.diagsvd(s, n, m)\n",
    "S"
   ]
  },
  {
   "cell_type": "markdown",
   "id": "f6df9d4a",
   "metadata": {},
   "source": [
    "**TODO #4** Check that the decomposition is correct by computing the Frobenius norm."
   ]
  },
  {
   "cell_type": "code",
   "execution_count": 129,
   "id": "4519e283",
   "metadata": {},
   "outputs": [],
   "source": [
    "### TODO - Write your code below ### \n",
    "\n"
   ]
  },
  {
   "cell_type": "markdown",
   "id": "29340f23",
   "metadata": {},
   "source": [
    "## Exercice"
   ]
  },
  {
   "cell_type": "code",
   "execution_count": null,
   "id": "4d3f5475",
   "metadata": {},
   "outputs": [],
   "source": []
  }
 ],
 "metadata": {
  "kernelspec": {
   "display_name": "Python 3 (ipykernel)",
   "language": "python",
   "name": "python3"
  },
  "language_info": {
   "codemirror_mode": {
    "name": "ipython",
    "version": 3
   },
   "file_extension": ".py",
   "mimetype": "text/x-python",
   "name": "python",
   "nbconvert_exporter": "python",
   "pygments_lexer": "ipython3",
   "version": "3.10.2"
  }
 },
 "nbformat": 4,
 "nbformat_minor": 5
}
